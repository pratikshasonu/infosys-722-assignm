{
 "cells": [
  {
   "cell_type": "code",
   "execution_count": 6,
   "metadata": {},
   "outputs": [],
   "source": [
    "import pandas as pd\n",
    "import matplotlib.pyplot as mpl\n",
    "import numpy as np\n",
    "%matplotlib inline\n",
    "import findspark\n",
    "findspark.init('/home/ubuntu/spark-2.1.1-bin-hadoop2.7')\n",
    "import pyspark\n",
    "from pyspark.sql import SparkSession\n",
    "spark = SparkSession.builder.appName('Infosys 722').getOrCreate()\n",
    "from pyspark.sql.types import IntegerType\n",
    "from pyspark.sql.types import FloatType"
   ]
  },
  {
   "cell_type": "code",
   "execution_count": 7,
   "metadata": {},
   "outputs": [],
   "source": [
    "pra = pd.read_csv('Datasets/March-2018-quarter-trade 8.csv')"
   ]
  },
  {
   "cell_type": "code",
   "execution_count": 8,
   "metadata": {},
   "outputs": [
    {
     "data": {
      "text/plain": [
       "(24582, 8)"
      ]
     },
     "execution_count": 8,
     "metadata": {},
     "output_type": "execute_result"
    }
   ],
   "source": [
    "pra . shape"
   ]
  },
  {
   "cell_type": "code",
   "execution_count": 4,
   "metadata": {},
   "outputs": [
    {
     "data": {
      "text/html": [
       "<div>\n",
       "<style scoped>\n",
       "    .dataframe tbody tr th:only-of-type {\n",
       "        vertical-align: middle;\n",
       "    }\n",
       "\n",
       "    .dataframe tbody tr th {\n",
       "        vertical-align: top;\n",
       "    }\n",
       "\n",
       "    .dataframe thead th {\n",
       "        text-align: right;\n",
       "    }\n",
       "</style>\n",
       "<table border=\"1\" class=\"dataframe\">\n",
       "  <thead>\n",
       "    <tr style=\"text-align: right;\">\n",
       "      <th></th>\n",
       "      <th>Year</th>\n",
       "      <th>Quarter</th>\n",
       "      <th>Country</th>\n",
       "      <th>NZPort</th>\n",
       "      <th>Producttype</th>\n",
       "      <th>UnitOfMeasure</th>\n",
       "      <th>ExportQuantity</th>\n",
       "      <th>Revenue</th>\n",
       "    </tr>\n",
       "  </thead>\n",
       "  <tbody>\n",
       "    <tr>\n",
       "      <th>0</th>\n",
       "      <td>2003</td>\n",
       "      <td>Mar</td>\n",
       "      <td>United Arab Emirates</td>\n",
       "      <td>Napier</td>\n",
       "      <td>Softwood Logs</td>\n",
       "      <td>Cubic Metre</td>\n",
       "      <td>5931.0</td>\n",
       "      <td>463311</td>\n",
       "    </tr>\n",
       "    <tr>\n",
       "      <th>1</th>\n",
       "      <td>2003</td>\n",
       "      <td>Mar</td>\n",
       "      <td>United Arab Emirates</td>\n",
       "      <td>Napier</td>\n",
       "      <td>Softwood Sawn Timber</td>\n",
       "      <td>Cubic Metre</td>\n",
       "      <td>1142.0</td>\n",
       "      <td>238526</td>\n",
       "    </tr>\n",
       "    <tr>\n",
       "      <th>2</th>\n",
       "      <td>2003</td>\n",
       "      <td>Mar</td>\n",
       "      <td>United Arab Emirates</td>\n",
       "      <td>Whangarei</td>\n",
       "      <td>Softwood Logs</td>\n",
       "      <td>Cubic Metre</td>\n",
       "      <td>4193.0</td>\n",
       "      <td>296527</td>\n",
       "    </tr>\n",
       "    <tr>\n",
       "      <th>3</th>\n",
       "      <td>2003</td>\n",
       "      <td>Mar</td>\n",
       "      <td>American Samoa</td>\n",
       "      <td>Auckland</td>\n",
       "      <td>Fibreboard</td>\n",
       "      <td>Cubic Metre</td>\n",
       "      <td>69.0</td>\n",
       "      <td>32188</td>\n",
       "    </tr>\n",
       "    <tr>\n",
       "      <th>4</th>\n",
       "      <td>2003</td>\n",
       "      <td>Mar</td>\n",
       "      <td>American Samoa</td>\n",
       "      <td>Auckland</td>\n",
       "      <td>Plywood</td>\n",
       "      <td>Cubic Metre</td>\n",
       "      <td>32.0</td>\n",
       "      <td>26682</td>\n",
       "    </tr>\n",
       "  </tbody>\n",
       "</table>\n",
       "</div>"
      ],
      "text/plain": [
       "   Year Quarter               Country     NZPort          Producttype   \\\n",
       "0  2003     Mar  United Arab Emirates     Napier         Softwood Logs   \n",
       "1  2003     Mar  United Arab Emirates     Napier  Softwood Sawn Timber   \n",
       "2  2003     Mar  United Arab Emirates  Whangarei         Softwood Logs   \n",
       "3  2003     Mar        American Samoa   Auckland            Fibreboard   \n",
       "4  2003     Mar        American Samoa   Auckland               Plywood   \n",
       "\n",
       "  UnitOfMeasure  ExportQuantity  Revenue  \n",
       "0   Cubic Metre          5931.0   463311  \n",
       "1   Cubic Metre          1142.0   238526  \n",
       "2   Cubic Metre          4193.0   296527  \n",
       "3   Cubic Metre            69.0    32188  \n",
       "4   Cubic Metre            32.0    26682  "
      ]
     },
     "execution_count": 4,
     "metadata": {},
     "output_type": "execute_result"
    }
   ],
   "source": [
    "pra.head()"
   ]
  },
  {
   "cell_type": "code",
   "execution_count": 5,
   "metadata": {},
   "outputs": [
    {
     "data": {
      "text/plain": [
       "Index(['Year', 'Quarter', 'Country', 'NZPort', 'Producttype ', 'UnitOfMeasure',\n",
       "       'ExportQuantity', 'Revenue'],\n",
       "      dtype='object')"
      ]
     },
     "execution_count": 5,
     "metadata": {},
     "output_type": "execute_result"
    }
   ],
   "source": [
    "pra.columns"
   ]
  },
  {
   "cell_type": "code",
   "execution_count": 6,
   "metadata": {},
   "outputs": [
    {
     "data": {
      "text/html": [
       "<div>\n",
       "<style scoped>\n",
       "    .dataframe tbody tr th:only-of-type {\n",
       "        vertical-align: middle;\n",
       "    }\n",
       "\n",
       "    .dataframe tbody tr th {\n",
       "        vertical-align: top;\n",
       "    }\n",
       "\n",
       "    .dataframe thead th {\n",
       "        text-align: right;\n",
       "    }\n",
       "</style>\n",
       "<table border=\"1\" class=\"dataframe\">\n",
       "  <thead>\n",
       "    <tr style=\"text-align: right;\">\n",
       "      <th></th>\n",
       "      <th>Year</th>\n",
       "      <th>ExportQuantity</th>\n",
       "      <th>Revenue</th>\n",
       "    </tr>\n",
       "  </thead>\n",
       "  <tbody>\n",
       "    <tr>\n",
       "      <th>count</th>\n",
       "      <td>24582.000000</td>\n",
       "      <td>2.326200e+04</td>\n",
       "      <td>2.458200e+04</td>\n",
       "    </tr>\n",
       "    <tr>\n",
       "      <th>mean</th>\n",
       "      <td>2010.197299</td>\n",
       "      <td>9.907731e+03</td>\n",
       "      <td>2.036845e+06</td>\n",
       "    </tr>\n",
       "    <tr>\n",
       "      <th>std</th>\n",
       "      <td>4.377842</td>\n",
       "      <td>4.646295e+04</td>\n",
       "      <td>6.995025e+06</td>\n",
       "    </tr>\n",
       "    <tr>\n",
       "      <th>min</th>\n",
       "      <td>2003.000000</td>\n",
       "      <td>0.000000e+00</td>\n",
       "      <td>0.000000e+00</td>\n",
       "    </tr>\n",
       "    <tr>\n",
       "      <th>25%</th>\n",
       "      <td>2006.000000</td>\n",
       "      <td>7.700000e+01</td>\n",
       "      <td>3.367125e+04</td>\n",
       "    </tr>\n",
       "    <tr>\n",
       "      <th>50%</th>\n",
       "      <td>2010.000000</td>\n",
       "      <td>4.650000e+02</td>\n",
       "      <td>1.701125e+05</td>\n",
       "    </tr>\n",
       "    <tr>\n",
       "      <th>75%</th>\n",
       "      <td>2014.000000</td>\n",
       "      <td>3.333750e+03</td>\n",
       "      <td>1.055310e+06</td>\n",
       "    </tr>\n",
       "    <tr>\n",
       "      <th>max</th>\n",
       "      <td>2018.000000</td>\n",
       "      <td>1.194610e+06</td>\n",
       "      <td>2.059438e+08</td>\n",
       "    </tr>\n",
       "  </tbody>\n",
       "</table>\n",
       "</div>"
      ],
      "text/plain": [
       "               Year  ExportQuantity       Revenue\n",
       "count  24582.000000    2.326200e+04  2.458200e+04\n",
       "mean    2010.197299    9.907731e+03  2.036845e+06\n",
       "std        4.377842    4.646295e+04  6.995025e+06\n",
       "min     2003.000000    0.000000e+00  0.000000e+00\n",
       "25%     2006.000000    7.700000e+01  3.367125e+04\n",
       "50%     2010.000000    4.650000e+02  1.701125e+05\n",
       "75%     2014.000000    3.333750e+03  1.055310e+06\n",
       "max     2018.000000    1.194610e+06  2.059438e+08"
      ]
     },
     "execution_count": 6,
     "metadata": {},
     "output_type": "execute_result"
    }
   ],
   "source": [
    "pra.describe()"
   ]
  },
  {
   "cell_type": "code",
   "execution_count": 7,
   "metadata": {},
   "outputs": [
    {
     "name": "stdout",
     "output_type": "stream",
     "text": [
      "<class 'pandas.core.frame.DataFrame'>\n",
      "RangeIndex: 24582 entries, 0 to 24581\n",
      "Data columns (total 8 columns):\n",
      "Year              24582 non-null int64\n",
      "Quarter           24582 non-null object\n",
      "Country           24582 non-null object\n",
      "NZPort            24582 non-null object\n",
      "Producttype       24582 non-null object\n",
      "UnitOfMeasure     24582 non-null object\n",
      "ExportQuantity    23262 non-null float64\n",
      "Revenue           24582 non-null int64\n",
      "dtypes: float64(1), int64(2), object(5)\n",
      "memory usage: 1.5+ MB\n"
     ]
    }
   ],
   "source": [
    "pra.info()"
   ]
  },
  {
   "cell_type": "code",
   "execution_count": 8,
   "metadata": {},
   "outputs": [
    {
     "data": {
      "text/plain": [
       "<matplotlib.axes._subplots.AxesSubplot at 0x7fe736148240>"
      ]
     },
     "execution_count": 8,
     "metadata": {},
     "output_type": "execute_result"
    },
    {
     "data": {
      "image/png": "[encoded data removed]",
      "text/plain": [
       "<Figure size 432x288 with 1 Axes>"
      ]
     },
     "metadata": {},
     "output_type": "display_data"
    }
   ],
   "source": [
    "pra['Year'] . hist(bins=50)"
   ]
  },
  {
   "cell_type": "code",
   "execution_count": 9,
   "metadata": {},
   "outputs": [
    {
     "data": {
      "text/plain": [
       "<matplotlib.axes._subplots.AxesSubplot at 0x7fe736284c18>"
      ]
     },
     "execution_count": 9,
     "metadata": {},
     "output_type": "execute_result"
    },
    {
     "data": {
      "image/png": "[encoded data removed]",
      "text/plain": [
       "<Figure size 432x288 with 1 Axes>"
      ]
     },
     "metadata": {},
     "output_type": "display_data"
    }
   ],
   "source": [
    "pra['ExportQuantity'] . hist(bins=50)"
   ]
  },
  {
   "cell_type": "code",
   "execution_count": 11,
   "metadata": {},
   "outputs": [
    {
     "data": {
      "text/plain": [
       "<matplotlib.axes._subplots.AxesSubplot at 0x7fe7356c6208>"
      ]
     },
     "execution_count": 11,
     "metadata": {},
     "output_type": "execute_result"
    },
    {
     "data": {
      "image/png": "[encoded data removed]",
      "text/plain": [
       "<Figure size 432x288 with 1 Axes>"
      ]
     },
     "metadata": {},
     "output_type": "display_data"
    }
   ],
   "source": [
    "pra['Revenue'] . hist(bins=50)"
   ]
  },
  {
   "cell_type": "code",
   "execution_count": 10,
   "metadata": {},
   "outputs": [
    {
     "data": {
      "text/plain": [
       "Text(0.5,1,'NZexport')"
      ]
     },
     "execution_count": 10,
     "metadata": {},
     "output_type": "execute_result"
    },
    {
     "data": {
      "image/png": "[encoded data removed]",
      "text/plain": [
       "<Figure size 432x288 with 1 Axes>"
      ]
     },
     "metadata": {},
     "output_type": "display_data"
    }
   ],
   "source": [
    "pra.Year.value_counts().plot(kind='bar', alpha=1)\n",
    "mpl.title(\"NZexport\")"
   ]
  },
  {
   "cell_type": "code",
   "execution_count": 12,
   "metadata": {},
   "outputs": [
    {
     "data": {
      "text/plain": [
       "Text(0.5,1,'NZexport')"
      ]
     },
     "execution_count": 12,
     "metadata": {},
     "output_type": "execute_result"
    },
    {
     "data": {
      "image/png": "[encoded data removed]",
      "text/plain": [
       "<Figure size 432x288 with 1 Axes>"
      ]
     },
     "metadata": {},
     "output_type": "display_data"
    }
   ],
   "source": [
    "pra.Quarter.value_counts().plot(kind='bar', alpha=1)\n",
    "mpl.title(\"NZexport\")"
   ]
  },
  {
   "cell_type": "code",
   "execution_count": 13,
   "metadata": {},
   "outputs": [
    {
     "data": {
      "text/plain": [
       "Text(0.5,1,'NZexport')"
      ]
     },
     "execution_count": 13,
     "metadata": {},
     "output_type": "execute_result"
    },
    {
     "data": {
      "image/png": "[encoded data removed]",
      "text/plain": [
       "<Figure size 432x288 with 1 Axes>"
      ]
     },
     "metadata": {},
     "output_type": "display_data"
    }
   ],
   "source": [
    "pra.Country.value_counts().plot(kind='bar', alpha=1)\n",
    "mpl.title(\"NZexport\")"
   ]
  },
  {
   "cell_type": "code",
   "execution_count": 14,
   "metadata": {},
   "outputs": [
    {
     "data": {
      "text/plain": [
       "Text(0.5,1,'NZexport')"
      ]
     },
     "execution_count": 14,
     "metadata": {},
     "output_type": "execute_result"
    },
    {
     "data": {
      "image/png": "[encoded data removed]",
      "text/plain": [
       "<Figure size 432x288 with 1 Axes>"
      ]
     },
     "metadata": {},
     "output_type": "display_data"
    }
   ],
   "source": [
    "pra.UnitOfMeasure.value_counts().plot(kind='bar', alpha=1)\n",
    "mpl.title(\"NZexport\")"
   ]
  },
  {
   "cell_type": "code",
   "execution_count": 17,
   "metadata": {},
   "outputs": [
    {
     "data": {
      "text/plain": [
       "Text(0.5,1,'NZ export')"
      ]
     },
     "execution_count": 17,
     "metadata": {},
     "output_type": "execute_result"
    },
    {
     "data": {
      "image/png": "[encoded data removed]",
      "text/plain": [
       "<Figure size 432x288 with 1 Axes>"
      ]
     },
     "metadata": {},
     "output_type": "display_data"
    }
   ],
   "source": [
    "pra.NZPort.value_counts().plot(kind='bar', alpha=1)\n",
    "mpl.title(\"NZ export\")"
   ]
  },
  {
   "cell_type": "code",
   "execution_count": 18,
   "metadata": {},
   "outputs": [
    {
     "data": {
      "text/plain": [
       "Text(0.5,1,'Revenue')"
      ]
     },
     "execution_count": 18,
     "metadata": {},
     "output_type": "execute_result"
    },
    {
     "data": {
      "image/png": "[encoded data removed]",
      "text/plain": [
       "<Figure size 432x288 with 1 Axes>"
      ]
     },
     "metadata": {},
     "output_type": "display_data"
    }
   ],
   "source": [
    "pra.Year.value_counts().plot(kind='bar', alpha=1)\n",
    "mpl.title(\"Revenue\")"
   ]
  },
  {
   "cell_type": "code",
   "execution_count": 20,
   "metadata": {},
   "outputs": [
    {
     "data": {
      "text/plain": [
       "Text(0.5,1,'Revenue')"
      ]
     },
     "execution_count": 20,
     "metadata": {},
     "output_type": "execute_result"
    },
    {
     "data": {
      "image/png": "[encoded data removed]",
      "text/plain": [
       "<Figure size 432x288 with 1 Axes>"
      ]
     },
     "metadata": {},
     "output_type": "display_data"
    }
   ],
   "source": [
    "pra.Country.value_counts().plot(kind='bar', alpha=1)\n",
    "mpl.title(\"Revenue\")"
   ]
  },
  {
   "cell_type": "code",
   "execution_count": 22,
   "metadata": {},
   "outputs": [
    {
     "data": {
      "text/plain": [
       "Text(0,0.5,'Country')"
      ]
     },
     "execution_count": 22,
     "metadata": {},
     "output_type": "execute_result"
    },
    {
     "data": {
      "image/png": "[encoded data removed]",
      "text/plain": [
       "<Figure size 432x288 with 1 Axes>"
      ]
     },
     "metadata": {},
     "output_type": "display_data"
    }
   ],
   "source": [
    "pd.crosstab(pra.Year,pra.Country).plot(kind='bar')\n",
    "mpl.title('comparison')\n",
    "mpl.xlabel('Year')\n",
    "mpl.ylabel('Country')"
   ]
  },
  {
   "cell_type": "code",
   "execution_count": 23,
   "metadata": {},
   "outputs": [
    {
     "data": {
      "text/plain": [
       "Text(0,0.5,'Quarter')"
      ]
     },
     "execution_count": 23,
     "metadata": {},
     "output_type": "execute_result"
    },
    {
     "data": {
      "image/png": "[encoded data removed]",
      "text/plain": [
       "<Figure size 432x288 with 1 Axes>"
      ]
     },
     "metadata": {},
     "output_type": "display_data"
    }
   ],
   "source": [
    "pd.crosstab(pra['Year'],pra['Quarter']).plot(kind='bar',stacked=False)\n",
    "mpl.title('comparison')\n",
    "mpl.xlabel('Year')\n",
    "mpl.ylabel('Quarter')"
   ]
  },
  {
   "cell_type": "code",
   "execution_count": 24,
   "metadata": {},
   "outputs": [
    {
     "data": {
      "image/png": "[encoded data removed]",
      "text/plain": [
       "<Figure size 720x720 with 4 Axes>"
      ]
     },
     "metadata": {},
     "output_type": "display_data"
    }
   ],
   "source": [
    "pra.select_dtypes(include=['int64']).columns\n",
    "pra.hist(figsize=(10,10))\n",
    "mpl.show()"
   ]
  },
  {
   "cell_type": "code",
   "execution_count": 25,
   "metadata": {},
   "outputs": [
    {
     "data": {
      "text/html": [
       "<div>\n",
       "<style scoped>\n",
       "    .dataframe tbody tr th:only-of-type {\n",
       "        vertical-align: middle;\n",
       "    }\n",
       "\n",
       "    .dataframe tbody tr th {\n",
       "        vertical-align: top;\n",
       "    }\n",
       "\n",
       "    .dataframe thead th {\n",
       "        text-align: right;\n",
       "    }\n",
       "</style>\n",
       "<table border=\"1\" class=\"dataframe\">\n",
       "  <thead>\n",
       "    <tr style=\"text-align: right;\">\n",
       "      <th></th>\n",
       "      <th>Year</th>\n",
       "      <th>Quarter</th>\n",
       "      <th>Country</th>\n",
       "      <th>NZPort</th>\n",
       "      <th>Producttype</th>\n",
       "      <th>UnitOfMeasure</th>\n",
       "      <th>ExportQuantity</th>\n",
       "      <th>Revenue</th>\n",
       "    </tr>\n",
       "  </thead>\n",
       "  <tbody>\n",
       "    <tr>\n",
       "      <th>0</th>\n",
       "      <td>2003</td>\n",
       "      <td>Mar</td>\n",
       "      <td>United Arab Emirates</td>\n",
       "      <td>Napier</td>\n",
       "      <td>Softwood Logs</td>\n",
       "      <td>Cubic Metre</td>\n",
       "      <td>5931.0</td>\n",
       "      <td>463311</td>\n",
       "    </tr>\n",
       "    <tr>\n",
       "      <th>1</th>\n",
       "      <td>2003</td>\n",
       "      <td>Mar</td>\n",
       "      <td>United Arab Emirates</td>\n",
       "      <td>Napier</td>\n",
       "      <td>Softwood Sawn Timber</td>\n",
       "      <td>Cubic Metre</td>\n",
       "      <td>1142.0</td>\n",
       "      <td>238526</td>\n",
       "    </tr>\n",
       "    <tr>\n",
       "      <th>2</th>\n",
       "      <td>2003</td>\n",
       "      <td>Mar</td>\n",
       "      <td>United Arab Emirates</td>\n",
       "      <td>Whangarei</td>\n",
       "      <td>Softwood Logs</td>\n",
       "      <td>Cubic Metre</td>\n",
       "      <td>4193.0</td>\n",
       "      <td>296527</td>\n",
       "    </tr>\n",
       "    <tr>\n",
       "      <th>3</th>\n",
       "      <td>2003</td>\n",
       "      <td>Mar</td>\n",
       "      <td>American Samoa</td>\n",
       "      <td>Auckland</td>\n",
       "      <td>Fibreboard</td>\n",
       "      <td>Cubic Metre</td>\n",
       "      <td>69.0</td>\n",
       "      <td>32188</td>\n",
       "    </tr>\n",
       "    <tr>\n",
       "      <th>4</th>\n",
       "      <td>2003</td>\n",
       "      <td>Mar</td>\n",
       "      <td>American Samoa</td>\n",
       "      <td>Auckland</td>\n",
       "      <td>Plywood</td>\n",
       "      <td>Cubic Metre</td>\n",
       "      <td>32.0</td>\n",
       "      <td>26682</td>\n",
       "    </tr>\n",
       "  </tbody>\n",
       "</table>\n",
       "</div>"
      ],
      "text/plain": [
       "   Year Quarter               Country     NZPort          Producttype   \\\n",
       "0  2003     Mar  United Arab Emirates     Napier         Softwood Logs   \n",
       "1  2003     Mar  United Arab Emirates     Napier  Softwood Sawn Timber   \n",
       "2  2003     Mar  United Arab Emirates  Whangarei         Softwood Logs   \n",
       "3  2003     Mar        American Samoa   Auckland            Fibreboard   \n",
       "4  2003     Mar        American Samoa   Auckland               Plywood   \n",
       "\n",
       "  UnitOfMeasure  ExportQuantity  Revenue  \n",
       "0   Cubic Metre          5931.0   463311  \n",
       "1   Cubic Metre          1142.0   238526  \n",
       "2   Cubic Metre          4193.0   296527  \n",
       "3   Cubic Metre            69.0    32188  \n",
       "4   Cubic Metre            32.0    26682  "
      ]
     },
     "execution_count": 25,
     "metadata": {},
     "output_type": "execute_result"
    }
   ],
   "source": [
    "pra.head()"
   ]
  },
  {
   "cell_type": "code",
   "execution_count": 4,
   "metadata": {},
   "outputs": [
    {
     "data": {
      "text/plain": [
       "Year                 0\n",
       "Quarter              0\n",
       "Country              0\n",
       "NZPort               0\n",
       "Producttype          0\n",
       "UnitOfMeasure        0\n",
       "ExportQuantity    1320\n",
       "Revenue              0\n",
       "dtype: int64"
      ]
     },
     "execution_count": 4,
     "metadata": {},
     "output_type": "execute_result"
    }
   ],
   "source": [
    "pra.isnull().sum()"
   ]
  },
  {
   "cell_type": "code",
   "execution_count": 12,
   "metadata": {},
   "outputs": [],
   "source": [
    "def convert_Quarter(Quarter):\n",
    "    if Quarter == 'Mar':\n",
    "        return '3'\n",
    "    elif Quarter == 'Jun':\n",
    "        return '4'\n",
    "    elif Quarter == 'Sep':\n",
    "        return '5'\n",
    "    else:\n",
    "        return '0'"
   ]
  },
  {
   "cell_type": "code",
   "execution_count": 13,
   "metadata": {},
   "outputs": [],
   "source": [
    "pra.loc[:,'newQuarter'] = pra['Quarter'].apply(convert_Quarter)\n",
    "pra['newQuarter']=pra['newQuarter'].astype(np.int64)"
   ]
  },
  {
   "cell_type": "code",
   "execution_count": 14,
   "metadata": {},
   "outputs": [
    {
     "data": {
      "text/html": [
       "<div>\n",
       "<style scoped>\n",
       "    .dataframe tbody tr th:only-of-type {\n",
       "        vertical-align: middle;\n",
       "    }\n",
       "\n",
       "    .dataframe tbody tr th {\n",
       "        vertical-align: top;\n",
       "    }\n",
       "\n",
       "    .dataframe thead th {\n",
       "        text-align: right;\n",
       "    }\n",
       "</style>\n",
       "<table border=\"1\" class=\"dataframe\">\n",
       "  <thead>\n",
       "    <tr style=\"text-align: right;\">\n",
       "      <th></th>\n",
       "      <th>Year</th>\n",
       "      <th>Quarter</th>\n",
       "      <th>Country</th>\n",
       "      <th>NZPort</th>\n",
       "      <th>Producttype</th>\n",
       "      <th>UnitOfMeasure</th>\n",
       "      <th>ExportQuantity</th>\n",
       "      <th>Revenue</th>\n",
       "      <th>newQuarter</th>\n",
       "    </tr>\n",
       "  </thead>\n",
       "  <tbody>\n",
       "    <tr>\n",
       "      <th>0</th>\n",
       "      <td>2003</td>\n",
       "      <td>Mar</td>\n",
       "      <td>United Arab Emirates</td>\n",
       "      <td>Napier</td>\n",
       "      <td>Softwood Logs</td>\n",
       "      <td>Cubic Metre</td>\n",
       "      <td>5931.0</td>\n",
       "      <td>463311</td>\n",
       "      <td>3</td>\n",
       "    </tr>\n",
       "    <tr>\n",
       "      <th>1</th>\n",
       "      <td>2003</td>\n",
       "      <td>Mar</td>\n",
       "      <td>United Arab Emirates</td>\n",
       "      <td>Napier</td>\n",
       "      <td>Softwood Sawn Timber</td>\n",
       "      <td>Cubic Metre</td>\n",
       "      <td>1142.0</td>\n",
       "      <td>238526</td>\n",
       "      <td>3</td>\n",
       "    </tr>\n",
       "    <tr>\n",
       "      <th>2</th>\n",
       "      <td>2003</td>\n",
       "      <td>Mar</td>\n",
       "      <td>United Arab Emirates</td>\n",
       "      <td>Whangarei</td>\n",
       "      <td>Softwood Logs</td>\n",
       "      <td>Cubic Metre</td>\n",
       "      <td>4193.0</td>\n",
       "      <td>296527</td>\n",
       "      <td>3</td>\n",
       "    </tr>\n",
       "    <tr>\n",
       "      <th>3</th>\n",
       "      <td>2003</td>\n",
       "      <td>Mar</td>\n",
       "      <td>American Samoa</td>\n",
       "      <td>Auckland</td>\n",
       "      <td>Fibreboard</td>\n",
       "      <td>Cubic Metre</td>\n",
       "      <td>69.0</td>\n",
       "      <td>32188</td>\n",
       "      <td>3</td>\n",
       "    </tr>\n",
       "    <tr>\n",
       "      <th>4</th>\n",
       "      <td>2003</td>\n",
       "      <td>Mar</td>\n",
       "      <td>American Samoa</td>\n",
       "      <td>Auckland</td>\n",
       "      <td>Plywood</td>\n",
       "      <td>Cubic Metre</td>\n",
       "      <td>32.0</td>\n",
       "      <td>26682</td>\n",
       "      <td>3</td>\n",
       "    </tr>\n",
       "    <tr>\n",
       "      <th>5</th>\n",
       "      <td>2003</td>\n",
       "      <td>Mar</td>\n",
       "      <td>American Samoa</td>\n",
       "      <td>Auckland</td>\n",
       "      <td>Softwood Sawn Timber</td>\n",
       "      <td>Cubic Metre</td>\n",
       "      <td>185.0</td>\n",
       "      <td>112537</td>\n",
       "      <td>3</td>\n",
       "    </tr>\n",
       "    <tr>\n",
       "      <th>6</th>\n",
       "      <td>2003</td>\n",
       "      <td>Mar</td>\n",
       "      <td>Austria</td>\n",
       "      <td>Auckland</td>\n",
       "      <td>Softwood Sawn Timber</td>\n",
       "      <td>Cubic Metre</td>\n",
       "      <td>3.0</td>\n",
       "      <td>9374</td>\n",
       "      <td>3</td>\n",
       "    </tr>\n",
       "    <tr>\n",
       "      <th>7</th>\n",
       "      <td>2003</td>\n",
       "      <td>Mar</td>\n",
       "      <td>Australia</td>\n",
       "      <td>Auckland</td>\n",
       "      <td>Hardwood Sawn Timber</td>\n",
       "      <td>Cubic Metre</td>\n",
       "      <td>15.0</td>\n",
       "      <td>32631</td>\n",
       "      <td>3</td>\n",
       "    </tr>\n",
       "    <tr>\n",
       "      <th>8</th>\n",
       "      <td>2003</td>\n",
       "      <td>Mar</td>\n",
       "      <td>Australia</td>\n",
       "      <td>Auckland</td>\n",
       "      <td>MDF</td>\n",
       "      <td>Cubic Metre</td>\n",
       "      <td>779.0</td>\n",
       "      <td>436320</td>\n",
       "      <td>3</td>\n",
       "    </tr>\n",
       "    <tr>\n",
       "      <th>9</th>\n",
       "      <td>2003</td>\n",
       "      <td>Mar</td>\n",
       "      <td>Australia</td>\n",
       "      <td>Auckland</td>\n",
       "      <td>Other Logs</td>\n",
       "      <td>Unknown</td>\n",
       "      <td>NaN</td>\n",
       "      <td>4500</td>\n",
       "      <td>3</td>\n",
       "    </tr>\n",
       "    <tr>\n",
       "      <th>10</th>\n",
       "      <td>2003</td>\n",
       "      <td>Mar</td>\n",
       "      <td>Australia</td>\n",
       "      <td>Auckland</td>\n",
       "      <td>Other Logs</td>\n",
       "      <td>Cubic Metre</td>\n",
       "      <td>20.0</td>\n",
       "      <td>61728</td>\n",
       "      <td>3</td>\n",
       "    </tr>\n",
       "    <tr>\n",
       "      <th>11</th>\n",
       "      <td>2003</td>\n",
       "      <td>Mar</td>\n",
       "      <td>Australia</td>\n",
       "      <td>Auckland</td>\n",
       "      <td>Particleboard</td>\n",
       "      <td>Cubic Metre</td>\n",
       "      <td>3543.0</td>\n",
       "      <td>1074801</td>\n",
       "      <td>3</td>\n",
       "    </tr>\n",
       "    <tr>\n",
       "      <th>12</th>\n",
       "      <td>2003</td>\n",
       "      <td>Mar</td>\n",
       "      <td>Australia</td>\n",
       "      <td>Auckland</td>\n",
       "      <td>Plywood</td>\n",
       "      <td>Unknown</td>\n",
       "      <td>NaN</td>\n",
       "      <td>3882395</td>\n",
       "      <td>3</td>\n",
       "    </tr>\n",
       "    <tr>\n",
       "      <th>13</th>\n",
       "      <td>2003</td>\n",
       "      <td>Mar</td>\n",
       "      <td>Australia</td>\n",
       "      <td>Auckland</td>\n",
       "      <td>Plywood</td>\n",
       "      <td>Cubic Metre</td>\n",
       "      <td>598.0</td>\n",
       "      <td>562888</td>\n",
       "      <td>3</td>\n",
       "    </tr>\n",
       "    <tr>\n",
       "      <th>14</th>\n",
       "      <td>2003</td>\n",
       "      <td>Mar</td>\n",
       "      <td>Australia</td>\n",
       "      <td>Auckland</td>\n",
       "      <td>Softwood Sawn Timber</td>\n",
       "      <td>Cubic Metre</td>\n",
       "      <td>13253.0</td>\n",
       "      <td>10043035</td>\n",
       "      <td>3</td>\n",
       "    </tr>\n",
       "    <tr>\n",
       "      <th>15</th>\n",
       "      <td>2003</td>\n",
       "      <td>Mar</td>\n",
       "      <td>Australia</td>\n",
       "      <td>Christchurch</td>\n",
       "      <td>MDF</td>\n",
       "      <td>Cubic Metre</td>\n",
       "      <td>1004.0</td>\n",
       "      <td>500452</td>\n",
       "      <td>3</td>\n",
       "    </tr>\n",
       "    <tr>\n",
       "      <th>16</th>\n",
       "      <td>2003</td>\n",
       "      <td>Mar</td>\n",
       "      <td>Australia</td>\n",
       "      <td>Christchurch</td>\n",
       "      <td>Plywood</td>\n",
       "      <td>Unknown</td>\n",
       "      <td>NaN</td>\n",
       "      <td>126788</td>\n",
       "      <td>3</td>\n",
       "    </tr>\n",
       "    <tr>\n",
       "      <th>17</th>\n",
       "      <td>2003</td>\n",
       "      <td>Mar</td>\n",
       "      <td>Australia</td>\n",
       "      <td>Christchurch</td>\n",
       "      <td>Plywood</td>\n",
       "      <td>Cubic Metre</td>\n",
       "      <td>210.0</td>\n",
       "      <td>211951</td>\n",
       "      <td>3</td>\n",
       "    </tr>\n",
       "    <tr>\n",
       "      <th>18</th>\n",
       "      <td>2003</td>\n",
       "      <td>Mar</td>\n",
       "      <td>Australia</td>\n",
       "      <td>Christchurch</td>\n",
       "      <td>Softwood Sawn Timber</td>\n",
       "      <td>Cubic Metre</td>\n",
       "      <td>12411.0</td>\n",
       "      <td>7622865</td>\n",
       "      <td>3</td>\n",
       "    </tr>\n",
       "    <tr>\n",
       "      <th>19</th>\n",
       "      <td>2003</td>\n",
       "      <td>Mar</td>\n",
       "      <td>Australia</td>\n",
       "      <td>Dunedin</td>\n",
       "      <td>Hardwood Sawn Timber</td>\n",
       "      <td>Cubic Metre</td>\n",
       "      <td>36.0</td>\n",
       "      <td>33646</td>\n",
       "      <td>3</td>\n",
       "    </tr>\n",
       "    <tr>\n",
       "      <th>20</th>\n",
       "      <td>2003</td>\n",
       "      <td>Mar</td>\n",
       "      <td>Australia</td>\n",
       "      <td>Dunedin</td>\n",
       "      <td>MDF</td>\n",
       "      <td>Cubic Metre</td>\n",
       "      <td>504.0</td>\n",
       "      <td>326929</td>\n",
       "      <td>3</td>\n",
       "    </tr>\n",
       "    <tr>\n",
       "      <th>21</th>\n",
       "      <td>2003</td>\n",
       "      <td>Mar</td>\n",
       "      <td>Australia</td>\n",
       "      <td>Dunedin</td>\n",
       "      <td>Softwood Sawn Timber</td>\n",
       "      <td>Cubic Metre</td>\n",
       "      <td>2143.0</td>\n",
       "      <td>1289572</td>\n",
       "      <td>3</td>\n",
       "    </tr>\n",
       "    <tr>\n",
       "      <th>22</th>\n",
       "      <td>2003</td>\n",
       "      <td>Mar</td>\n",
       "      <td>Australia</td>\n",
       "      <td>Invercargill</td>\n",
       "      <td>Hardwood Sawn Timber</td>\n",
       "      <td>Cubic Metre</td>\n",
       "      <td>199.0</td>\n",
       "      <td>264037</td>\n",
       "      <td>3</td>\n",
       "    </tr>\n",
       "    <tr>\n",
       "      <th>23</th>\n",
       "      <td>2003</td>\n",
       "      <td>Mar</td>\n",
       "      <td>Australia</td>\n",
       "      <td>Invercargill</td>\n",
       "      <td>Softwood Sawn Timber</td>\n",
       "      <td>Cubic Metre</td>\n",
       "      <td>3894.0</td>\n",
       "      <td>2381115</td>\n",
       "      <td>3</td>\n",
       "    </tr>\n",
       "    <tr>\n",
       "      <th>24</th>\n",
       "      <td>2003</td>\n",
       "      <td>Mar</td>\n",
       "      <td>Australia</td>\n",
       "      <td>Napier</td>\n",
       "      <td>Softwood Sawn Timber</td>\n",
       "      <td>Cubic Metre</td>\n",
       "      <td>686.0</td>\n",
       "      <td>412567</td>\n",
       "      <td>3</td>\n",
       "    </tr>\n",
       "    <tr>\n",
       "      <th>25</th>\n",
       "      <td>2003</td>\n",
       "      <td>Mar</td>\n",
       "      <td>Australia</td>\n",
       "      <td>New Plymouth</td>\n",
       "      <td>Other Logs</td>\n",
       "      <td>Unknown</td>\n",
       "      <td>NaN</td>\n",
       "      <td>18221</td>\n",
       "      <td>3</td>\n",
       "    </tr>\n",
       "    <tr>\n",
       "      <th>26</th>\n",
       "      <td>2003</td>\n",
       "      <td>Mar</td>\n",
       "      <td>Australia</td>\n",
       "      <td>New Plymouth</td>\n",
       "      <td>Particleboard</td>\n",
       "      <td>Cubic Metre</td>\n",
       "      <td>0.0</td>\n",
       "      <td>0</td>\n",
       "      <td>3</td>\n",
       "    </tr>\n",
       "    <tr>\n",
       "      <th>27</th>\n",
       "      <td>2003</td>\n",
       "      <td>Mar</td>\n",
       "      <td>Australia</td>\n",
       "      <td>New Plymouth</td>\n",
       "      <td>Softwood Sawn Timber</td>\n",
       "      <td>Cubic Metre</td>\n",
       "      <td>295.0</td>\n",
       "      <td>231533</td>\n",
       "      <td>3</td>\n",
       "    </tr>\n",
       "    <tr>\n",
       "      <th>28</th>\n",
       "      <td>2003</td>\n",
       "      <td>Mar</td>\n",
       "      <td>Australia</td>\n",
       "      <td>Nelson</td>\n",
       "      <td>MDF</td>\n",
       "      <td>Cubic Metre</td>\n",
       "      <td>5577.0</td>\n",
       "      <td>2048257</td>\n",
       "      <td>3</td>\n",
       "    </tr>\n",
       "    <tr>\n",
       "      <th>29</th>\n",
       "      <td>2003</td>\n",
       "      <td>Mar</td>\n",
       "      <td>Australia</td>\n",
       "      <td>Nelson</td>\n",
       "      <td>Other Logs</td>\n",
       "      <td>Unknown</td>\n",
       "      <td>NaN</td>\n",
       "      <td>298347</td>\n",
       "      <td>3</td>\n",
       "    </tr>\n",
       "    <tr>\n",
       "      <th>...</th>\n",
       "      <td>...</td>\n",
       "      <td>...</td>\n",
       "      <td>...</td>\n",
       "      <td>...</td>\n",
       "      <td>...</td>\n",
       "      <td>...</td>\n",
       "      <td>...</td>\n",
       "      <td>...</td>\n",
       "      <td>...</td>\n",
       "    </tr>\n",
       "    <tr>\n",
       "      <th>470</th>\n",
       "      <td>2003</td>\n",
       "      <td>Jun</td>\n",
       "      <td>Indonesia</td>\n",
       "      <td>Christchurch</td>\n",
       "      <td>MDF</td>\n",
       "      <td>Cubic Metre</td>\n",
       "      <td>3653.0</td>\n",
       "      <td>1685926</td>\n",
       "      <td>4</td>\n",
       "    </tr>\n",
       "    <tr>\n",
       "      <th>471</th>\n",
       "      <td>2003</td>\n",
       "      <td>Jun</td>\n",
       "      <td>Indonesia</td>\n",
       "      <td>Christchurch</td>\n",
       "      <td>Softwood Sawn Timber</td>\n",
       "      <td>Cubic Metre</td>\n",
       "      <td>202.0</td>\n",
       "      <td>123166</td>\n",
       "      <td>4</td>\n",
       "    </tr>\n",
       "    <tr>\n",
       "      <th>472</th>\n",
       "      <td>2003</td>\n",
       "      <td>Jun</td>\n",
       "      <td>Indonesia</td>\n",
       "      <td>Dunedin</td>\n",
       "      <td>Softwood Sawn Timber</td>\n",
       "      <td>Cubic Metre</td>\n",
       "      <td>87.0</td>\n",
       "      <td>46103</td>\n",
       "      <td>4</td>\n",
       "    </tr>\n",
       "    <tr>\n",
       "      <th>473</th>\n",
       "      <td>2003</td>\n",
       "      <td>Jun</td>\n",
       "      <td>Indonesia</td>\n",
       "      <td>Invercargill</td>\n",
       "      <td>MDF</td>\n",
       "      <td>Cubic Metre</td>\n",
       "      <td>520.0</td>\n",
       "      <td>162163</td>\n",
       "      <td>4</td>\n",
       "    </tr>\n",
       "    <tr>\n",
       "      <th>474</th>\n",
       "      <td>2003</td>\n",
       "      <td>Jun</td>\n",
       "      <td>Indonesia</td>\n",
       "      <td>Napier</td>\n",
       "      <td>Softwood Sawn Timber</td>\n",
       "      <td>Cubic Metre</td>\n",
       "      <td>1608.0</td>\n",
       "      <td>807044</td>\n",
       "      <td>4</td>\n",
       "    </tr>\n",
       "    <tr>\n",
       "      <th>475</th>\n",
       "      <td>2003</td>\n",
       "      <td>Jun</td>\n",
       "      <td>Indonesia</td>\n",
       "      <td>Nelson</td>\n",
       "      <td>MDF</td>\n",
       "      <td>Cubic Metre</td>\n",
       "      <td>498.0</td>\n",
       "      <td>177686</td>\n",
       "      <td>4</td>\n",
       "    </tr>\n",
       "    <tr>\n",
       "      <th>476</th>\n",
       "      <td>2003</td>\n",
       "      <td>Jun</td>\n",
       "      <td>Indonesia</td>\n",
       "      <td>Tauranga</td>\n",
       "      <td>Chemical Pulp</td>\n",
       "      <td>Tonne</td>\n",
       "      <td>7390.0</td>\n",
       "      <td>5562172</td>\n",
       "      <td>4</td>\n",
       "    </tr>\n",
       "    <tr>\n",
       "      <th>477</th>\n",
       "      <td>2003</td>\n",
       "      <td>Jun</td>\n",
       "      <td>Indonesia</td>\n",
       "      <td>Tauranga</td>\n",
       "      <td>Hardwood Sawn Timber</td>\n",
       "      <td>Cubic Metre</td>\n",
       "      <td>79.0</td>\n",
       "      <td>149903</td>\n",
       "      <td>4</td>\n",
       "    </tr>\n",
       "    <tr>\n",
       "      <th>478</th>\n",
       "      <td>2003</td>\n",
       "      <td>Jun</td>\n",
       "      <td>Indonesia</td>\n",
       "      <td>Tauranga</td>\n",
       "      <td>MDF</td>\n",
       "      <td>Cubic Metre</td>\n",
       "      <td>229.0</td>\n",
       "      <td>76656</td>\n",
       "      <td>4</td>\n",
       "    </tr>\n",
       "    <tr>\n",
       "      <th>479</th>\n",
       "      <td>2003</td>\n",
       "      <td>Jun</td>\n",
       "      <td>Indonesia</td>\n",
       "      <td>Tauranga</td>\n",
       "      <td>Softwood Logs</td>\n",
       "      <td>Cubic Metre</td>\n",
       "      <td>17367.0</td>\n",
       "      <td>750539</td>\n",
       "      <td>4</td>\n",
       "    </tr>\n",
       "    <tr>\n",
       "      <th>480</th>\n",
       "      <td>2003</td>\n",
       "      <td>Jun</td>\n",
       "      <td>Indonesia</td>\n",
       "      <td>Tauranga</td>\n",
       "      <td>Softwood Sawn Timber</td>\n",
       "      <td>Cubic Metre</td>\n",
       "      <td>1305.0</td>\n",
       "      <td>482896</td>\n",
       "      <td>4</td>\n",
       "    </tr>\n",
       "    <tr>\n",
       "      <th>481</th>\n",
       "      <td>2003</td>\n",
       "      <td>Jun</td>\n",
       "      <td>Indonesia</td>\n",
       "      <td>Wellington</td>\n",
       "      <td>MDF</td>\n",
       "      <td>Cubic Metre</td>\n",
       "      <td>2354.0</td>\n",
       "      <td>695366</td>\n",
       "      <td>4</td>\n",
       "    </tr>\n",
       "    <tr>\n",
       "      <th>482</th>\n",
       "      <td>2003</td>\n",
       "      <td>Jun</td>\n",
       "      <td>Indonesia</td>\n",
       "      <td>Wellington</td>\n",
       "      <td>Mechanical Pulp</td>\n",
       "      <td>Tonne</td>\n",
       "      <td>2235.0</td>\n",
       "      <td>1219006</td>\n",
       "      <td>4</td>\n",
       "    </tr>\n",
       "    <tr>\n",
       "      <th>483</th>\n",
       "      <td>2003</td>\n",
       "      <td>Jun</td>\n",
       "      <td>Indonesia</td>\n",
       "      <td>Wellington</td>\n",
       "      <td>Softwood Sawn Timber</td>\n",
       "      <td>Cubic Metre</td>\n",
       "      <td>1559.0</td>\n",
       "      <td>771421</td>\n",
       "      <td>4</td>\n",
       "    </tr>\n",
       "    <tr>\n",
       "      <th>484</th>\n",
       "      <td>2003</td>\n",
       "      <td>Jun</td>\n",
       "      <td>Indonesia</td>\n",
       "      <td>Whangarei</td>\n",
       "      <td>Softwood Logs</td>\n",
       "      <td>Cubic Metre</td>\n",
       "      <td>7637.0</td>\n",
       "      <td>330054</td>\n",
       "      <td>4</td>\n",
       "    </tr>\n",
       "    <tr>\n",
       "      <th>485</th>\n",
       "      <td>2003</td>\n",
       "      <td>Jun</td>\n",
       "      <td>Indonesia</td>\n",
       "      <td>Whangarei</td>\n",
       "      <td>Softwood Sawn Timber</td>\n",
       "      <td>Cubic Metre</td>\n",
       "      <td>101.0</td>\n",
       "      <td>23895</td>\n",
       "      <td>4</td>\n",
       "    </tr>\n",
       "    <tr>\n",
       "      <th>486</th>\n",
       "      <td>2003</td>\n",
       "      <td>Jun</td>\n",
       "      <td>India</td>\n",
       "      <td>Christchurch</td>\n",
       "      <td>MDF</td>\n",
       "      <td>Cubic Metre</td>\n",
       "      <td>720.0</td>\n",
       "      <td>120119</td>\n",
       "      <td>4</td>\n",
       "    </tr>\n",
       "    <tr>\n",
       "      <th>487</th>\n",
       "      <td>2003</td>\n",
       "      <td>Jun</td>\n",
       "      <td>India</td>\n",
       "      <td>Dunedin</td>\n",
       "      <td>MDF</td>\n",
       "      <td>Cubic Metre</td>\n",
       "      <td>128.0</td>\n",
       "      <td>23595</td>\n",
       "      <td>4</td>\n",
       "    </tr>\n",
       "    <tr>\n",
       "      <th>488</th>\n",
       "      <td>2003</td>\n",
       "      <td>Jun</td>\n",
       "      <td>India</td>\n",
       "      <td>Invercargill</td>\n",
       "      <td>Hardwood Sawn Timber</td>\n",
       "      <td>Cubic Metre</td>\n",
       "      <td>25.0</td>\n",
       "      <td>8472</td>\n",
       "      <td>4</td>\n",
       "    </tr>\n",
       "    <tr>\n",
       "      <th>489</th>\n",
       "      <td>2003</td>\n",
       "      <td>Jun</td>\n",
       "      <td>India</td>\n",
       "      <td>Napier</td>\n",
       "      <td>Softwood Logs</td>\n",
       "      <td>Cubic Metre</td>\n",
       "      <td>39748.0</td>\n",
       "      <td>3230132</td>\n",
       "      <td>4</td>\n",
       "    </tr>\n",
       "    <tr>\n",
       "      <th>490</th>\n",
       "      <td>2003</td>\n",
       "      <td>Jun</td>\n",
       "      <td>India</td>\n",
       "      <td>Napier</td>\n",
       "      <td>Softwood Sawn Timber</td>\n",
       "      <td>Cubic Metre</td>\n",
       "      <td>51.0</td>\n",
       "      <td>25237</td>\n",
       "      <td>4</td>\n",
       "    </tr>\n",
       "    <tr>\n",
       "      <th>491</th>\n",
       "      <td>2003</td>\n",
       "      <td>Jun</td>\n",
       "      <td>India</td>\n",
       "      <td>Nelson</td>\n",
       "      <td>MDF</td>\n",
       "      <td>Cubic Metre</td>\n",
       "      <td>100.0</td>\n",
       "      <td>26612</td>\n",
       "      <td>4</td>\n",
       "    </tr>\n",
       "    <tr>\n",
       "      <th>492</th>\n",
       "      <td>2003</td>\n",
       "      <td>Jun</td>\n",
       "      <td>India</td>\n",
       "      <td>Tauranga</td>\n",
       "      <td>Softwood Logs</td>\n",
       "      <td>Cubic Metre</td>\n",
       "      <td>1263.0</td>\n",
       "      <td>105819</td>\n",
       "      <td>4</td>\n",
       "    </tr>\n",
       "    <tr>\n",
       "      <th>493</th>\n",
       "      <td>2003</td>\n",
       "      <td>Jun</td>\n",
       "      <td>India</td>\n",
       "      <td>Wellington</td>\n",
       "      <td>Mechanical Pulp</td>\n",
       "      <td>Tonne</td>\n",
       "      <td>211.0</td>\n",
       "      <td>112617</td>\n",
       "      <td>4</td>\n",
       "    </tr>\n",
       "    <tr>\n",
       "      <th>494</th>\n",
       "      <td>2003</td>\n",
       "      <td>Jun</td>\n",
       "      <td>India</td>\n",
       "      <td>Wellington</td>\n",
       "      <td>Softwood Logs</td>\n",
       "      <td>Cubic Metre</td>\n",
       "      <td>6345.0</td>\n",
       "      <td>389675</td>\n",
       "      <td>4</td>\n",
       "    </tr>\n",
       "    <tr>\n",
       "      <th>495</th>\n",
       "      <td>2003</td>\n",
       "      <td>Jun</td>\n",
       "      <td>India</td>\n",
       "      <td>Whangarei</td>\n",
       "      <td>Softwood Logs</td>\n",
       "      <td>Cubic Metre</td>\n",
       "      <td>33997.0</td>\n",
       "      <td>2947377</td>\n",
       "      <td>4</td>\n",
       "    </tr>\n",
       "    <tr>\n",
       "      <th>496</th>\n",
       "      <td>2003</td>\n",
       "      <td>Jun</td>\n",
       "      <td>Italy</td>\n",
       "      <td>Tauranga</td>\n",
       "      <td>Hardwood Sawn Timber</td>\n",
       "      <td>Cubic Metre</td>\n",
       "      <td>8.0</td>\n",
       "      <td>24818</td>\n",
       "      <td>4</td>\n",
       "    </tr>\n",
       "    <tr>\n",
       "      <th>497</th>\n",
       "      <td>2003</td>\n",
       "      <td>Jun</td>\n",
       "      <td>Italy</td>\n",
       "      <td>Tauranga</td>\n",
       "      <td>Softwood Sawn Timber</td>\n",
       "      <td>Cubic Metre</td>\n",
       "      <td>78.0</td>\n",
       "      <td>109409</td>\n",
       "      <td>4</td>\n",
       "    </tr>\n",
       "    <tr>\n",
       "      <th>498</th>\n",
       "      <td>2003</td>\n",
       "      <td>Jun</td>\n",
       "      <td>Japan</td>\n",
       "      <td>Auckland</td>\n",
       "      <td>Plywood</td>\n",
       "      <td>Unknown</td>\n",
       "      <td>NaN</td>\n",
       "      <td>86451</td>\n",
       "      <td>4</td>\n",
       "    </tr>\n",
       "    <tr>\n",
       "      <th>499</th>\n",
       "      <td>2003</td>\n",
       "      <td>Jun</td>\n",
       "      <td>Japan</td>\n",
       "      <td>Auckland</td>\n",
       "      <td>Plywood</td>\n",
       "      <td>Cubic Metre</td>\n",
       "      <td>38.0</td>\n",
       "      <td>11150</td>\n",
       "      <td>4</td>\n",
       "    </tr>\n",
       "  </tbody>\n",
       "</table>\n",
       "<p>500 rows × 9 columns</p>\n",
       "</div>"
      ],
      "text/plain": [
       "     Year Quarter               Country        NZPort          Producttype   \\\n",
       "0    2003     Mar  United Arab Emirates        Napier         Softwood Logs   \n",
       "1    2003     Mar  United Arab Emirates        Napier  Softwood Sawn Timber   \n",
       "2    2003     Mar  United Arab Emirates     Whangarei         Softwood Logs   \n",
       "3    2003     Mar        American Samoa      Auckland            Fibreboard   \n",
       "4    2003     Mar        American Samoa      Auckland               Plywood   \n",
       "5    2003     Mar        American Samoa      Auckland  Softwood Sawn Timber   \n",
       "6    2003     Mar               Austria      Auckland  Softwood Sawn Timber   \n",
       "7    2003     Mar             Australia      Auckland  Hardwood Sawn Timber   \n",
       "8    2003     Mar             Australia      Auckland                   MDF   \n",
       "9    2003     Mar             Australia      Auckland            Other Logs   \n",
       "10   2003     Mar             Australia      Auckland            Other Logs   \n",
       "11   2003     Mar             Australia      Auckland         Particleboard   \n",
       "12   2003     Mar             Australia      Auckland               Plywood   \n",
       "13   2003     Mar             Australia      Auckland               Plywood   \n",
       "14   2003     Mar             Australia      Auckland  Softwood Sawn Timber   \n",
       "15   2003     Mar             Australia  Christchurch                   MDF   \n",
       "16   2003     Mar             Australia  Christchurch               Plywood   \n",
       "17   2003     Mar             Australia  Christchurch               Plywood   \n",
       "18   2003     Mar             Australia  Christchurch  Softwood Sawn Timber   \n",
       "19   2003     Mar             Australia       Dunedin  Hardwood Sawn Timber   \n",
       "20   2003     Mar             Australia       Dunedin                   MDF   \n",
       "21   2003     Mar             Australia       Dunedin  Softwood Sawn Timber   \n",
       "22   2003     Mar             Australia  Invercargill  Hardwood Sawn Timber   \n",
       "23   2003     Mar             Australia  Invercargill  Softwood Sawn Timber   \n",
       "24   2003     Mar             Australia        Napier  Softwood Sawn Timber   \n",
       "25   2003     Mar             Australia  New Plymouth            Other Logs   \n",
       "26   2003     Mar             Australia  New Plymouth         Particleboard   \n",
       "27   2003     Mar             Australia  New Plymouth  Softwood Sawn Timber   \n",
       "28   2003     Mar             Australia        Nelson                   MDF   \n",
       "29   2003     Mar             Australia        Nelson            Other Logs   \n",
       "..    ...     ...                   ...           ...                   ...   \n",
       "470  2003     Jun             Indonesia  Christchurch                   MDF   \n",
       "471  2003     Jun             Indonesia  Christchurch  Softwood Sawn Timber   \n",
       "472  2003     Jun             Indonesia       Dunedin  Softwood Sawn Timber   \n",
       "473  2003     Jun             Indonesia  Invercargill                   MDF   \n",
       "474  2003     Jun             Indonesia        Napier  Softwood Sawn Timber   \n",
       "475  2003     Jun             Indonesia        Nelson                   MDF   \n",
       "476  2003     Jun             Indonesia      Tauranga         Chemical Pulp   \n",
       "477  2003     Jun             Indonesia      Tauranga  Hardwood Sawn Timber   \n",
       "478  2003     Jun             Indonesia      Tauranga                   MDF   \n",
       "479  2003     Jun             Indonesia      Tauranga         Softwood Logs   \n",
       "480  2003     Jun             Indonesia      Tauranga  Softwood Sawn Timber   \n",
       "481  2003     Jun             Indonesia    Wellington                   MDF   \n",
       "482  2003     Jun             Indonesia    Wellington       Mechanical Pulp   \n",
       "483  2003     Jun             Indonesia    Wellington  Softwood Sawn Timber   \n",
       "484  2003     Jun             Indonesia     Whangarei         Softwood Logs   \n",
       "485  2003     Jun             Indonesia     Whangarei  Softwood Sawn Timber   \n",
       "486  2003     Jun                 India  Christchurch                   MDF   \n",
       "487  2003     Jun                 India       Dunedin                   MDF   \n",
       "488  2003     Jun                 India  Invercargill  Hardwood Sawn Timber   \n",
       "489  2003     Jun                 India        Napier         Softwood Logs   \n",
       "490  2003     Jun                 India        Napier  Softwood Sawn Timber   \n",
       "491  2003     Jun                 India        Nelson                   MDF   \n",
       "492  2003     Jun                 India      Tauranga         Softwood Logs   \n",
       "493  2003     Jun                 India    Wellington       Mechanical Pulp   \n",
       "494  2003     Jun                 India    Wellington         Softwood Logs   \n",
       "495  2003     Jun                 India     Whangarei         Softwood Logs   \n",
       "496  2003     Jun                 Italy      Tauranga  Hardwood Sawn Timber   \n",
       "497  2003     Jun                 Italy      Tauranga  Softwood Sawn Timber   \n",
       "498  2003     Jun                 Japan      Auckland               Plywood   \n",
       "499  2003     Jun                 Japan      Auckland               Plywood   \n",
       "\n",
       "    UnitOfMeasure  ExportQuantity   Revenue  newQuarter  \n",
       "0     Cubic Metre          5931.0    463311           3  \n",
       "1     Cubic Metre          1142.0    238526           3  \n",
       "2     Cubic Metre          4193.0    296527           3  \n",
       "3     Cubic Metre            69.0     32188           3  \n",
       "4     Cubic Metre            32.0     26682           3  \n",
       "5     Cubic Metre           185.0    112537           3  \n",
       "6     Cubic Metre             3.0      9374           3  \n",
       "7     Cubic Metre            15.0     32631           3  \n",
       "8     Cubic Metre           779.0    436320           3  \n",
       "9         Unknown             NaN      4500           3  \n",
       "10    Cubic Metre            20.0     61728           3  \n",
       "11    Cubic Metre          3543.0   1074801           3  \n",
       "12        Unknown             NaN   3882395           3  \n",
       "13    Cubic Metre           598.0    562888           3  \n",
       "14    Cubic Metre         13253.0  10043035           3  \n",
       "15    Cubic Metre          1004.0    500452           3  \n",
       "16        Unknown             NaN    126788           3  \n",
       "17    Cubic Metre           210.0    211951           3  \n",
       "18    Cubic Metre         12411.0   7622865           3  \n",
       "19    Cubic Metre            36.0     33646           3  \n",
       "20    Cubic Metre           504.0    326929           3  \n",
       "21    Cubic Metre          2143.0   1289572           3  \n",
       "22    Cubic Metre           199.0    264037           3  \n",
       "23    Cubic Metre          3894.0   2381115           3  \n",
       "24    Cubic Metre           686.0    412567           3  \n",
       "25        Unknown             NaN     18221           3  \n",
       "26    Cubic Metre             0.0         0           3  \n",
       "27    Cubic Metre           295.0    231533           3  \n",
       "28    Cubic Metre          5577.0   2048257           3  \n",
       "29        Unknown             NaN    298347           3  \n",
       "..            ...             ...       ...         ...  \n",
       "470   Cubic Metre          3653.0   1685926           4  \n",
       "471   Cubic Metre           202.0    123166           4  \n",
       "472   Cubic Metre            87.0     46103           4  \n",
       "473   Cubic Metre           520.0    162163           4  \n",
       "474   Cubic Metre          1608.0    807044           4  \n",
       "475   Cubic Metre           498.0    177686           4  \n",
       "476         Tonne          7390.0   5562172           4  \n",
       "477   Cubic Metre            79.0    149903           4  \n",
       "478   Cubic Metre           229.0     76656           4  \n",
       "479   Cubic Metre         17367.0    750539           4  \n",
       "480   Cubic Metre          1305.0    482896           4  \n",
       "481   Cubic Metre          2354.0    695366           4  \n",
       "482         Tonne          2235.0   1219006           4  \n",
       "483   Cubic Metre          1559.0    771421           4  \n",
       "484   Cubic Metre          7637.0    330054           4  \n",
       "485   Cubic Metre           101.0     23895           4  \n",
       "486   Cubic Metre           720.0    120119           4  \n",
       "487   Cubic Metre           128.0     23595           4  \n",
       "488   Cubic Metre            25.0      8472           4  \n",
       "489   Cubic Metre         39748.0   3230132           4  \n",
       "490   Cubic Metre            51.0     25237           4  \n",
       "491   Cubic Metre           100.0     26612           4  \n",
       "492   Cubic Metre          1263.0    105819           4  \n",
       "493         Tonne           211.0    112617           4  \n",
       "494   Cubic Metre          6345.0    389675           4  \n",
       "495   Cubic Metre         33997.0   2947377           4  \n",
       "496   Cubic Metre             8.0     24818           4  \n",
       "497   Cubic Metre            78.0    109409           4  \n",
       "498       Unknown             NaN     86451           4  \n",
       "499   Cubic Metre            38.0     11150           4  \n",
       "\n",
       "[500 rows x 9 columns]"
      ]
     },
     "execution_count": 14,
     "metadata": {},
     "output_type": "execute_result"
    }
   ],
   "source": [
    "pra.head(500)"
   ]
  },
  {
   "cell_type": "code",
   "execution_count": 9,
   "metadata": {},
   "outputs": [],
   "source": [
    "import findspark\n",
    "findspark.init('/home/ubuntu/spark-2.1.1-bin-hadoop2.7')\n",
    "import pyspark\n",
    "from pyspark.sql import SparkSession\n",
    "spark = SparkSession.builder.appName('Infosys 722').getOrCreate()"
   ]
  },
  {
   "cell_type": "code",
   "execution_count": 10,
   "metadata": {},
   "outputs": [],
   "source": [
    "pra = spark.read.csv('Datasets/March-2018-quarter-trade 8.csv',header=True,inferSchema=True)"
   ]
  },
  {
   "cell_type": "code",
   "execution_count": 14,
   "metadata": {},
   "outputs": [
    {
     "name": "stdout",
     "output_type": "stream",
     "text": [
      "+----+-------+--------------------+------------+--------------------+-------------+--------------+--------+\n",
      "|Year|Quarter|             Country|      NZPort|        Producttype |UnitOfMeasure|ExportQuantity| Revenue|\n",
      "+----+-------+--------------------+------------+--------------------+-------------+--------------+--------+\n",
      "|2003|    Mar|United Arab Emirates|      Napier|       Softwood Logs|  Cubic Metre|        5931.0|  463311|\n",
      "|2003|    Mar|United Arab Emirates|      Napier|Softwood Sawn Timber|  Cubic Metre|        1142.0|  238526|\n",
      "|2003|    Mar|United Arab Emirates|   Whangarei|       Softwood Logs|  Cubic Metre|        4193.0|  296527|\n",
      "|2003|    Mar|      American Samoa|    Auckland|          Fibreboard|  Cubic Metre|          69.0|   32188|\n",
      "|2003|    Mar|      American Samoa|    Auckland|             Plywood|  Cubic Metre|          32.0|   26682|\n",
      "|2003|    Mar|      American Samoa|    Auckland|Softwood Sawn Timber|  Cubic Metre|         185.0|  112537|\n",
      "|2003|    Mar|             Austria|    Auckland|Softwood Sawn Timber|  Cubic Metre|           3.0|    9374|\n",
      "|2003|    Mar|           Australia|    Auckland|Hardwood Sawn Timber|  Cubic Metre|          15.0|   32631|\n",
      "|2003|    Mar|           Australia|    Auckland|                 MDF|  Cubic Metre|         779.0|  436320|\n",
      "|2003|    Mar|           Australia|    Auckland|          Other Logs|      Unknown|          null|    4500|\n",
      "|2003|    Mar|           Australia|    Auckland|          Other Logs|  Cubic Metre|          20.0|   61728|\n",
      "|2003|    Mar|           Australia|    Auckland|       Particleboard|  Cubic Metre|        3543.0| 1074801|\n",
      "|2003|    Mar|           Australia|    Auckland|             Plywood|      Unknown|          null| 3882395|\n",
      "|2003|    Mar|           Australia|    Auckland|             Plywood|  Cubic Metre|         598.0|  562888|\n",
      "|2003|    Mar|           Australia|    Auckland|Softwood Sawn Timber|  Cubic Metre|       13253.0|10043035|\n",
      "|2003|    Mar|           Australia|Christchurch|                 MDF|  Cubic Metre|        1004.0|  500452|\n",
      "|2003|    Mar|           Australia|Christchurch|             Plywood|      Unknown|          null|  126788|\n",
      "|2003|    Mar|           Australia|Christchurch|             Plywood|  Cubic Metre|         210.0|  211951|\n",
      "|2003|    Mar|           Australia|Christchurch|Softwood Sawn Timber|  Cubic Metre|       12411.0| 7622865|\n",
      "|2003|    Mar|           Australia|     Dunedin|Hardwood Sawn Timber|  Cubic Metre|          36.0|   33646|\n",
      "+----+-------+--------------------+------------+--------------------+-------------+--------------+--------+\n",
      "only showing top 20 rows\n",
      "\n"
     ]
    }
   ],
   "source": [
    "pra.show()"
   ]
  },
  {
   "cell_type": "code",
   "execution_count": 15,
   "metadata": {},
   "outputs": [
    {
     "name": "stdout",
     "output_type": "stream",
     "text": [
      "root\n",
      " |-- Year: integer (nullable = true)\n",
      " |-- Quarter: string (nullable = true)\n",
      " |-- Country: string (nullable = true)\n",
      " |-- NZPort: string (nullable = true)\n",
      " |-- Producttype : string (nullable = true)\n",
      " |-- UnitOfMeasure: string (nullable = true)\n",
      " |-- ExportQuantity: double (nullable = true)\n",
      " |-- Revenue: integer (nullable = true)\n",
      "\n"
     ]
    }
   ],
   "source": [
    "pra.printSchema()"
   ]
  },
  {
   "cell_type": "code",
   "execution_count": 16,
   "metadata": {},
   "outputs": [
    {
     "name": "stdout",
     "output_type": "stream",
     "text": [
      "[Row(Year=2003, Quarter='Mar', Country='United Arab Emirates', NZPort='Napier', Producttype ='Softwood Logs', UnitOfMeasure='Cubic Metre', ExportQuantity=5931.0, Revenue=463311)]\n"
     ]
    }
   ],
   "source": [
    "print(pra.head(1))"
   ]
  },
  {
   "cell_type": "code",
   "execution_count": 11,
   "metadata": {},
   "outputs": [
    {
     "name": "stdout",
     "output_type": "stream",
     "text": [
      "+----+-------+-------+------+------------+-------------+--------------+-------+\n",
      "|Year|Quarter|Country|NZPort|Producttype |UnitOfMeasure|ExportQuantity|Revenue|\n",
      "+----+-------+-------+------+------------+-------------+--------------+-------+\n",
      "|   0|      0|      0|     0|           0|            0|          1320|      0|\n",
      "+----+-------+-------+------+------------+-------------+--------------+-------+\n",
      "\n"
     ]
    }
   ],
   "source": [
    "from pyspark.sql.functions import isnull,isnan,when,count,col,pow\n",
    "\n",
    "pra.select([count(when(isnan(c)| col(c).isNull(),c)).alias(c) for c in pra.columns]).show()"
   ]
  },
  {
   "cell_type": "code",
   "execution_count": 12,
   "metadata": {},
   "outputs": [
    {
     "name": "stdout",
     "output_type": "stream",
     "text": [
      "+----+-------+-------+------+------------+-------------+--------------+-------+\n",
      "|Year|Quarter|Country|NZPort|Producttype |UnitOfMeasure|ExportQuantity|Revenue|\n",
      "+----+-------+-------+------+------------+-------------+--------------+-------+\n",
      "|   0|      0|      0|     0|           0|            0|             0|      0|\n",
      "+----+-------+-------+------+------------+-------------+--------------+-------+\n",
      "\n"
     ]
    }
   ],
   "source": [
    "pra = pra.na.drop()\n",
    "pra.select([count(when(isnan(c)| col(c).isNull(),c)).alias(c) for c in pra.columns]).show()"
   ]
  },
  {
   "cell_type": "code",
   "execution_count": 13,
   "metadata": {},
   "outputs": [
    {
     "name": "stdout",
     "output_type": "stream",
     "text": [
      "root\n",
      " |-- Year: integer (nullable = true)\n",
      " |-- Quarter: string (nullable = true)\n",
      " |-- Country: string (nullable = true)\n",
      " |-- NZPort: string (nullable = true)\n",
      " |-- Producttype : string (nullable = true)\n",
      " |-- UnitOfMeasure: string (nullable = true)\n",
      " |-- ExportQuantity: double (nullable = true)\n",
      " |-- Revenue: integer (nullable = true)\n",
      "\n",
      "['Year', 'Quarter', 'Country', 'NZPort', 'Producttype ', 'UnitOfMeasure', 'ExportQuantity', 'Revenue']\n"
     ]
    }
   ],
   "source": [
    "pra.printSchema()\n",
    "print(pra.columns)"
   ]
  },
  {
   "cell_type": "code",
   "execution_count": 14,
   "metadata": {},
   "outputs": [
    {
     "name": "stdout",
     "output_type": "stream",
     "text": [
      "root\n",
      " |-- Year: integer (nullable = true)\n",
      " |-- Quarter: string (nullable = true)\n",
      " |-- Country: string (nullable = true)\n",
      " |-- NZPort: string (nullable = true)\n",
      " |-- Producttype : string (nullable = true)\n",
      " |-- UnitOfMeasure: string (nullable = true)\n",
      " |-- ExportQuantity: double (nullable = true)\n",
      " |-- Revenue: integer (nullable = true)\n",
      " |-- features: vector (nullable = true)\n",
      "\n"
     ]
    },
    {
     "data": {
      "text/plain": [
       "[Row(Year=2003, Quarter='Mar', Country='United Arab Emirates', NZPort='Napier', Producttype ='Softwood Logs', UnitOfMeasure='Cubic Metre', ExportQuantity=5931.0, Revenue=463311, features=DenseVector([2003.0, 5931.0]))]"
      ]
     },
     "execution_count": 14,
     "metadata": {},
     "output_type": "execute_result"
    }
   ],
   "source": [
    "from pyspark.ml.feature import VectorAssembler\n",
    "vector_assembler = VectorAssembler(inputCols = ['Year', 'ExportQuantity'], outputCol = 'features')\n",
    "vector_output = vector_assembler.transform(pra)\n",
    "vector_output.printSchema()\n",
    "vector_output.head(1)"
   ]
  },
  {
   "cell_type": "code",
   "execution_count": 15,
   "metadata": {},
   "outputs": [
    {
     "name": "stdout",
     "output_type": "stream",
     "text": [
      "[Row(features=DenseVector([2003.0, 5931.0]), Revenue=463311)]\n",
      "+---------------+-------+\n",
      "|       features|Revenue|\n",
      "+---------------+-------+\n",
      "|[2003.0,5931.0]| 463311|\n",
      "|[2003.0,1142.0]| 238526|\n",
      "|[2003.0,4193.0]| 296527|\n",
      "+---------------+-------+\n",
      "only showing top 3 rows\n",
      "\n"
     ]
    }
   ],
   "source": [
    "vector_output = vector_output.select(['features', 'Revenue'])\n",
    "print(vector_output.head(1))\n",
    "vector_output.show(3)"
   ]
  },
  {
   "cell_type": "code",
   "execution_count": 16,
   "metadata": {},
   "outputs": [
    {
     "name": "stdout",
     "output_type": "stream",
     "text": [
      "+-------+------------------+\n",
      "|summary|           Revenue|\n",
      "+-------+------------------+\n",
      "|  count|             16382|\n",
      "|   mean|2145506.2473446466|\n",
      "| stddev|7337211.4477780145|\n",
      "|    min|                 0|\n",
      "|    max|         205943843|\n",
      "+-------+------------------+\n",
      "\n",
      "+-------+------------------+\n",
      "|summary|           Revenue|\n",
      "+-------+------------------+\n",
      "|  count|              6880|\n",
      "|   mean|2028951.5722383722|\n",
      "| stddev| 6741397.142688702|\n",
      "|    min|                 0|\n",
      "|    max|         129825968|\n",
      "+-------+------------------+\n",
      "\n"
     ]
    }
   ],
   "source": [
    "train_data,test_data = vector_output.randomSplit([0.7,0.3])\n",
    "train_data.describe().show()\n",
    "test_data.describe().show()"
   ]
  },
  {
   "cell_type": "code",
   "execution_count": 17,
   "metadata": {},
   "outputs": [
    {
     "name": "stdout",
     "output_type": "stream",
     "text": [
      "Training Dataset Count: 16382\n",
      "Test Dataset Count: 6880\n"
     ]
    }
   ],
   "source": [
    "print(\"Training Dataset Count: \" + str(train_data.count()))\n",
    "print(\"Test Dataset Count: \" + str(test_data.count()))"
   ]
  },
  {
   "cell_type": "code",
   "execution_count": 24,
   "metadata": {},
   "outputs": [
    {
     "name": "stdout",
     "output_type": "stream",
     "text": [
      "+------------+-------+\n",
      "|    features|Revenue|\n",
      "+------------+-------+\n",
      "|[2003.0,0.0]|      0|\n",
      "|[2003.0,0.0]|      0|\n",
      "|[2003.0,0.0]|      0|\n",
      "|[2003.0,0.0]|      0|\n",
      "|[2003.0,0.0]|      0|\n",
      "|[2003.0,0.0]|      0|\n",
      "|[2003.0,0.0]|      0|\n",
      "|[2003.0,0.0]|      0|\n",
      "|[2003.0,0.0]|      0|\n",
      "|[2003.0,0.0]|      0|\n",
      "|[2003.0,0.0]|      0|\n",
      "|[2003.0,0.0]|     10|\n",
      "|[2003.0,0.0]|    510|\n",
      "|[2003.0,0.0]|   1807|\n",
      "|[2003.0,0.0]|   3400|\n",
      "|[2003.0,1.0]|    695|\n",
      "|[2003.0,1.0]|   1339|\n",
      "|[2003.0,1.0]|   1340|\n",
      "|[2003.0,1.0]|   1683|\n",
      "|[2003.0,1.0]|   2184|\n",
      "+------------+-------+\n",
      "only showing top 20 rows\n",
      "\n"
     ]
    }
   ],
   "source": [
    "train_data.show()"
   ]
  },
  {
   "cell_type": "code",
   "execution_count": 18,
   "metadata": {},
   "outputs": [],
   "source": [
    "from pyspark.ml.regression import LinearRegression"
   ]
  },
  {
   "cell_type": "code",
   "execution_count": 19,
   "metadata": {},
   "outputs": [
    {
     "name": "stdout",
     "output_type": "stream",
     "text": [
      "Row(Year=2003, Quarter='Mar', Country='United Arab Emirates', NZPort='Napier', Producttype ='Softwood Logs', UnitOfMeasure='Cubic Metre', ExportQuantity=5931.0, Revenue=463311)\n",
      "root\n",
      " |-- Year: integer (nullable = true)\n",
      " |-- Quarter: string (nullable = true)\n",
      " |-- Country: string (nullable = true)\n",
      " |-- NZPort: string (nullable = true)\n",
      " |-- Producttype : string (nullable = true)\n",
      " |-- UnitOfMeasure: string (nullable = true)\n",
      " |-- ExportQuantity: double (nullable = true)\n",
      " |-- Revenue: integer (nullable = true)\n",
      "\n"
     ]
    }
   ],
   "source": [
    "print(pra.head()) \n",
    "pra.printSchema()"
   ]
  },
  {
   "cell_type": "code",
   "execution_count": 20,
   "metadata": {},
   "outputs": [],
   "source": [
    "lr = LinearRegression(featuresCol='features', labelCol='Revenue')"
   ]
  },
  {
   "cell_type": "code",
   "execution_count": 21,
   "metadata": {},
   "outputs": [],
   "source": [
    "lr_model = lr.fit(train_data)"
   ]
  },
  {
   "cell_type": "code",
   "execution_count": 22,
   "metadata": {},
   "outputs": [
    {
     "data": {
      "text/plain": [
       "DenseVector([34416.4278, 142.6241])"
      ]
     },
     "execution_count": 22,
     "metadata": {},
     "output_type": "execute_result"
    }
   ],
   "source": [
    "lr_model.coefficients"
   ]
  },
  {
   "cell_type": "code",
   "execution_count": 23,
   "metadata": {},
   "outputs": [
    {
     "name": "stdout",
     "output_type": "stream",
     "text": [
      "Coefficients: [34416.42784115345,142.6241326695357]\n",
      "Intercept: -68479639.20122989\n",
      "\n",
      "RMSE: 2972483.0156226098\n",
      "R2: 0.8358642420904803\n"
     ]
    }
   ],
   "source": [
    "# Print the coefficients.\n",
    "print(\"Coefficients: \" + str(lr_model.coefficients))\n",
    "\n",
    "# Print the intercept.\n",
    "print(\"Intercept: \" + str(lr_model.intercept) + \"\\n\")\n",
    "\n",
    "# Summarise the model and print out some evaluation metrics.\n",
    "training_summary = lr_model.summary\n",
    "\n",
    "# Print RMSE. \n",
    "print(\"RMSE: \" + str(training_summary.rootMeanSquaredError))\n",
    "\n",
    "# Print R2.\n",
    "print(\"R2: \" + str(training_summary.r2))"
   ]
  },
  {
   "cell_type": "code",
   "execution_count": 24,
   "metadata": {},
   "outputs": [
    {
     "name": "stdout",
     "output_type": "stream",
     "text": [
      "+-------+------------------+\n",
      "|summary|           Revenue|\n",
      "+-------+------------------+\n",
      "|  count|             16382|\n",
      "|   mean|2145506.2473446466|\n",
      "| stddev|7337211.4477780145|\n",
      "|    min|                 0|\n",
      "|    max|         205943843|\n",
      "+-------+------------------+\n",
      "\n"
     ]
    }
   ],
   "source": [
    "train_data.describe().show()"
   ]
  },
  {
   "cell_type": "code",
   "execution_count": 32,
   "metadata": {},
   "outputs": [
    {
     "name": "stdout",
     "output_type": "stream",
     "text": [
      "RMSE on test data: 3112755.7123856153\n",
      "R2 on test data: 0.8515681351784589\n"
     ]
    }
   ],
   "source": [
    "# Let's evaluate the model against the test data.\n",
    "test_results = lr_model.evaluate(test_data)\n",
    "\n",
    "# And print the RMSE/R2. As expected, our RMSE and R2 are slightly worse when applying the testing set.\n",
    "print(\"RMSE on test data: \" + str(test_results.rootMeanSquaredError))\n",
    "print(\"R2 on test data: \" + str(test_results.r2))"
   ]
  },
  {
   "cell_type": "code",
   "execution_count": 30,
   "metadata": {},
   "outputs": [
    {
     "data": {
      "image/png": "[encoded data removed]",
      "text/plain": [
       "<Figure size 432x288 with 1 Axes>"
      ]
     },
     "metadata": {},
     "output_type": "display_data"
    }
   ],
   "source": [
    "import pandas as pd\n",
    "import matplotlib.pyplot as plt\n",
    "plt.plot(lr_model.coefficients)\n",
    "plt.xlabel('inputs')\n",
    "plt.ylabel('coefficients')\n",
    "plt.show()"
   ]
  },
  {
   "cell_type": "code",
   "execution_count": 31,
   "metadata": {},
   "outputs": [
    {
     "data": {
      "image/png": "[encoded data removed]",
      "text/plain": [
       "<Figure size 432x288 with 1 Axes>"
      ]
     },
     "metadata": {},
     "output_type": "display_data"
    }
   ],
   "source": [
    "plt.plot(lr_model.coefficients)\n",
    "plt.ylabel('Beta Coefficients')\n",
    "plt.show()"
   ]
  },
  {
   "cell_type": "code",
   "execution_count": 33,
   "metadata": {},
   "outputs": [
    {
     "name": "stdout",
     "output_type": "stream",
     "text": [
      "+-------+------------------+\n",
      "|summary|           Revenue|\n",
      "+-------+------------------+\n",
      "|  count|             16382|\n",
      "|   mean|2145506.2473446466|\n",
      "| stddev|7337211.4477780145|\n",
      "|    min|                 0|\n",
      "|    max|         205943843|\n",
      "+-------+------------------+\n",
      "\n"
     ]
    }
   ],
   "source": [
    "train_data.describe().show()"
   ]
  },
  {
   "cell_type": "code",
   "execution_count": 33,
   "metadata": {},
   "outputs": [
    {
     "name": "stdout",
     "output_type": "stream",
     "text": [
      "+------------------+-------+-------------+\n",
      "|        prediction|Revenue|     features|\n",
      "+------------------+-------+-------------+\n",
      "|494835.71445034444|      0| [2003.0,0.0]|\n",
      "|494835.71445034444|      0| [2003.0,0.0]|\n",
      "|494835.71445034444|      0| [2003.0,0.0]|\n",
      "|494835.71445034444|      0| [2003.0,0.0]|\n",
      "|494835.71445034444|    100| [2003.0,0.0]|\n",
      "|494835.71445034444|   1400| [2003.0,0.0]|\n",
      "|494835.71445034444|   1564| [2003.0,0.0]|\n",
      "|494835.71445034444| 133661| [2003.0,0.0]|\n",
      "| 494974.3766730428|    303| [2003.0,1.0]|\n",
      "| 494974.3766730428|    911| [2003.0,1.0]|\n",
      "| 494974.3766730428|   1400| [2003.0,1.0]|\n",
      "| 494974.3766730428|   1682| [2003.0,1.0]|\n",
      "| 494974.3766730428|   1993| [2003.0,1.0]|\n",
      "| 494974.3766730428|   2459| [2003.0,1.0]|\n",
      "| 494974.3766730428|   4494| [2003.0,1.0]|\n",
      "| 495113.0388957262|   1796| [2003.0,2.0]|\n",
      "| 495113.0388957262|   2574| [2003.0,2.0]|\n",
      "|495251.70111842453|   1200| [2003.0,3.0]|\n",
      "|495251.70111842453|   1483| [2003.0,3.0]|\n",
      "|495251.70111842453|   2566| [2003.0,3.0]|\n",
      "|495251.70111842453|   9374| [2003.0,3.0]|\n",
      "| 495529.0255638212|   2144| [2003.0,5.0]|\n",
      "| 495529.0255638212|   2726| [2003.0,5.0]|\n",
      "| 495529.0255638212|   3065| [2003.0,5.0]|\n",
      "| 495667.6877865046|   9212| [2003.0,6.0]|\n",
      "|495806.35000920296|   8376| [2003.0,7.0]|\n",
      "|495806.35000920296|  10724| [2003.0,7.0]|\n",
      "| 495945.0122319013|  24818| [2003.0,8.0]|\n",
      "| 496083.6744545996|  13296| [2003.0,9.0]|\n",
      "|496222.33667728305|   6724|[2003.0,10.0]|\n",
      "|496222.33667728305|   7021|[2003.0,10.0]|\n",
      "|496222.33667728305|   9250|[2003.0,10.0]|\n",
      "|496222.33667728305|  25111|[2003.0,10.0]|\n",
      "| 496360.9988999814|   5508|[2003.0,11.0]|\n",
      "| 496499.6611226797|   9948|[2003.0,12.0]|\n",
      "|496638.32334537804|   8337|[2003.0,13.0]|\n",
      "|496638.32334537804|  39930|[2003.0,13.0]|\n",
      "| 496776.9855680615|  10551|[2003.0,14.0]|\n",
      "| 496915.6477907598|  19500|[2003.0,15.0]|\n",
      "| 496915.6477907598|  34378|[2003.0,15.0]|\n",
      "|497054.31001345813|  33877|[2003.0,16.0]|\n",
      "| 497331.6344588399|  27529|[2003.0,18.0]|\n",
      "| 497470.2966815382|   9640|[2003.0,19.0]|\n",
      "| 497470.2966815382|  33921|[2003.0,19.0]|\n",
      "|497608.95890423656|  29488|[2003.0,20.0]|\n",
      "|   497747.62112692|   4121|[2003.0,21.0]|\n",
      "|   497747.62112692|   5784|[2003.0,21.0]|\n",
      "|   497747.62112692|  22401|[2003.0,21.0]|\n",
      "| 497886.2833496183|   5553|[2003.0,22.0]|\n",
      "| 497886.2833496183|  17348|[2003.0,22.0]|\n",
      "+------------------+-------+-------------+\n",
      "only showing top 50 rows\n",
      "\n",
      "R Squared (R2) on test data = 0.851568\n"
     ]
    }
   ],
   "source": [
    "lr_predictions = lr_model.transform(test_data)\n",
    "lr_predictions.select(\"prediction\",\"Revenue\",\"features\").show(50)\n",
    "from pyspark.ml.evaluation import RegressionEvaluator\n",
    "lr_evaluator = RegressionEvaluator(predictionCol=\"prediction\", \\\n",
    "                 labelCol=\"Revenue\",metricName=\"r2\")\n",
    "print(\"R Squared (R2) on test data = %g\" % lr_evaluator.evaluate(lr_predictions))"
   ]
  },
  {
   "cell_type": "code",
   "execution_count": 34,
   "metadata": {},
   "outputs": [
    {
     "name": "stdout",
     "output_type": "stream",
     "text": [
      "+------------------+-------+------------+\n",
      "|        prediction|Revenue|    features|\n",
      "+------------------+-------+------------+\n",
      "|494835.71445034444|      0|[2003.0,0.0]|\n",
      "|494835.71445034444|      0|[2003.0,0.0]|\n",
      "|494835.71445034444|      0|[2003.0,0.0]|\n",
      "|494835.71445034444|      0|[2003.0,0.0]|\n",
      "|494835.71445034444|    100|[2003.0,0.0]|\n",
      "|494835.71445034444|   1400|[2003.0,0.0]|\n",
      "|494835.71445034444|   1564|[2003.0,0.0]|\n",
      "|494835.71445034444| 133661|[2003.0,0.0]|\n",
      "| 494974.3766730428|    303|[2003.0,1.0]|\n",
      "| 494974.3766730428|    911|[2003.0,1.0]|\n",
      "| 494974.3766730428|   1400|[2003.0,1.0]|\n",
      "| 494974.3766730428|   1682|[2003.0,1.0]|\n",
      "| 494974.3766730428|   1993|[2003.0,1.0]|\n",
      "| 494974.3766730428|   2459|[2003.0,1.0]|\n",
      "| 494974.3766730428|   4494|[2003.0,1.0]|\n",
      "| 495113.0388957262|   1796|[2003.0,2.0]|\n",
      "| 495113.0388957262|   2574|[2003.0,2.0]|\n",
      "|495251.70111842453|   1200|[2003.0,3.0]|\n",
      "|495251.70111842453|   1483|[2003.0,3.0]|\n",
      "|495251.70111842453|   2566|[2003.0,3.0]|\n",
      "+------------------+-------+------------+\n",
      "only showing top 20 rows\n",
      "\n"
     ]
    }
   ],
   "source": [
    "predictions = lr_model.transform(test_data)\n",
    "predictions.select(\"prediction\",\"Revenue\",\"features\").show()"
   ]
  },
  {
   "cell_type": "markdown",
   "metadata": {},
   "source": [
    "# Decision Tree"
   ]
  },
  {
   "cell_type": "code",
   "execution_count": 35,
   "metadata": {},
   "outputs": [],
   "source": [
    "from pyspark.ml.regression import DecisionTreeRegressor\n",
    "from pyspark.ml.evaluation import RegressionEvaluator"
   ]
  },
  {
   "cell_type": "code",
   "execution_count": 36,
   "metadata": {},
   "outputs": [
    {
     "name": "stdout",
     "output_type": "stream",
     "text": [
      "Root Mean Squared Error (RMSE) on test data = 5.72117e+06\n"
     ]
    }
   ],
   "source": [
    "dt = DecisionTreeRegressor(featuresCol ='features', labelCol = 'Revenue')\n",
    "dt_model = dt.fit(train_data)\n",
    "dt_predictions = dt_model.transform(test_data)\n",
    "dt_evaluator = RegressionEvaluator(labelCol=\"Revenue\", predictionCol=\"prediction\", metricName=\"rmse\")\n",
    "rmse = dt_evaluator.evaluate(dt_predictions)\n",
    "print(\"Root Mean Squared Error (RMSE) on test data = %g\" % rmse)"
   ]
  },
  {
   "cell_type": "code",
   "execution_count": 37,
   "metadata": {},
   "outputs": [
    {
     "data": {
      "text/plain": [
       "SparseVector(2, {0: 0.079, 1: 0.921})"
      ]
     },
     "execution_count": 37,
     "metadata": {},
     "output_type": "execute_result"
    }
   ],
   "source": [
    "dt_model.featureImportances"
   ]
  },
  {
   "cell_type": "code",
   "execution_count": 38,
   "metadata": {},
   "outputs": [
    {
     "data": {
      "text/plain": [
       "[Row(features=DenseVector([2003.0, 0.0]), Revenue=0),\n",
       " Row(features=DenseVector([2003.0, 0.0]), Revenue=0),\n",
       " Row(features=DenseVector([2003.0, 0.0]), Revenue=0),\n",
       " Row(features=DenseVector([2003.0, 0.0]), Revenue=0),\n",
       " Row(features=DenseVector([2003.0, 0.0]), Revenue=0),\n",
       " Row(features=DenseVector([2003.0, 0.0]), Revenue=0),\n",
       " Row(features=DenseVector([2003.0, 0.0]), Revenue=0),\n",
       " Row(features=DenseVector([2003.0, 0.0]), Revenue=0),\n",
       " Row(features=DenseVector([2003.0, 0.0]), Revenue=0),\n",
       " Row(features=DenseVector([2003.0, 0.0]), Revenue=0),\n",
       " Row(features=DenseVector([2003.0, 0.0]), Revenue=0),\n",
       " Row(features=DenseVector([2003.0, 0.0]), Revenue=10),\n",
       " Row(features=DenseVector([2003.0, 0.0]), Revenue=510),\n",
       " Row(features=DenseVector([2003.0, 0.0]), Revenue=1807),\n",
       " Row(features=DenseVector([2003.0, 0.0]), Revenue=3400),\n",
       " Row(features=DenseVector([2003.0, 1.0]), Revenue=695),\n",
       " Row(features=DenseVector([2003.0, 1.0]), Revenue=1339),\n",
       " Row(features=DenseVector([2003.0, 1.0]), Revenue=1340),\n",
       " Row(features=DenseVector([2003.0, 1.0]), Revenue=1683),\n",
       " Row(features=DenseVector([2003.0, 1.0]), Revenue=2184)]"
      ]
     },
     "execution_count": 38,
     "metadata": {},
     "output_type": "execute_result"
    }
   ],
   "source": [
    "train_data.take(20)"
   ]
  },
  {
   "cell_type": "markdown",
   "metadata": {},
   "source": [
    "# Gradient boosted tree regression# "
   ]
  },
  {
   "cell_type": "code",
   "execution_count": 39,
   "metadata": {},
   "outputs": [
    {
     "name": "stdout",
     "output_type": "stream",
     "text": [
      "+------------------+-------+------------+\n",
      "|        prediction|Revenue|    features|\n",
      "+------------------+-------+------------+\n",
      "| 66585.27674216221|      0|[2003.0,0.0]|\n",
      "| 66585.27674216221|      0|[2003.0,0.0]|\n",
      "| 66585.27674216221|      0|[2003.0,0.0]|\n",
      "| 66585.27674216221|      0|[2003.0,0.0]|\n",
      "| 66585.27674216221|    100|[2003.0,0.0]|\n",
      "| 66585.27674216221|   1400|[2003.0,0.0]|\n",
      "| 66585.27674216221|   1564|[2003.0,0.0]|\n",
      "| 66585.27674216221| 133661|[2003.0,0.0]|\n",
      "| 66585.27674216221|    303|[2003.0,1.0]|\n",
      "| 66585.27674216221|    911|[2003.0,1.0]|\n",
      "| 66585.27674216221|   1400|[2003.0,1.0]|\n",
      "| 66585.27674216221|   1682|[2003.0,1.0]|\n",
      "| 66585.27674216221|   1993|[2003.0,1.0]|\n",
      "| 66585.27674216221|   2459|[2003.0,1.0]|\n",
      "| 66585.27674216221|   4494|[2003.0,1.0]|\n",
      "|19732.163934790384|   1796|[2003.0,2.0]|\n",
      "|19732.163934790384|   2574|[2003.0,2.0]|\n",
      "|19732.163934790384|   1200|[2003.0,3.0]|\n",
      "|19732.163934790384|   1483|[2003.0,3.0]|\n",
      "|19732.163934790384|   2566|[2003.0,3.0]|\n",
      "+------------------+-------+------------+\n",
      "only showing top 20 rows\n",
      "\n"
     ]
    }
   ],
   "source": [
    "from pyspark.ml.regression import GBTRegressor\n",
    "gbt = GBTRegressor(featuresCol = 'features', labelCol = 'Revenue', maxIter=10)\n",
    "gbt_model = gbt.fit(train_data)\n",
    "gbt_predictions = gbt_model.transform(test_data)\n",
    "gbt_predictions.select('prediction', 'Revenue', 'features').show(20)\n"
   ]
  },
  {
   "cell_type": "code",
   "execution_count": 40,
   "metadata": {},
   "outputs": [
    {
     "name": "stdout",
     "output_type": "stream",
     "text": [
      "Root Mean Squared Error (RMSE) on test data = 5.79973e+06\n"
     ]
    }
   ],
   "source": [
    "from pyspark.ml.evaluation import RegressionEvaluator\n",
    "gbt_evaluator = RegressionEvaluator(\n",
    "    labelCol=\"Revenue\", predictionCol=\"prediction\", metricName=\"rmse\")\n",
    "rmse = gbt_evaluator.evaluate(gbt_predictions)\n",
    "print(\"Root Mean Squared Error (RMSE) on test data = %g\" % rmse)"
   ]
  },
  {
   "cell_type": "code",
   "execution_count": null,
   "metadata": {},
   "outputs": [],
   "source": []
  }
 ],
 "metadata": {
  "kernelspec": {
   "display_name": "Python 3",
   "language": "python",
   "name": "python3"
  },
  "language_info": {
   "codemirror_mode": {
    "name": "ipython",
    "version": 3
   },
   "file_extension": ".py",
   "mimetype": "text/x-python",
   "name": "python",
   "nbconvert_exporter": "python",
   "pygments_lexer": "ipython3",
   "version": "3.5.2"
  }
 },
 "nbformat": 4,
 "nbformat_minor": 2
}
